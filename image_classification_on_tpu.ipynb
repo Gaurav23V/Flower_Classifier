{
  "metadata": {
    "kernelspec": {
      "display_name": "Python 3",
      "name": "python3"
    },
    "language_info": {
      "name": "python",
      "version": "3.10.13",
      "mimetype": "text/x-python",
      "codemirror_mode": {
        "name": "ipython",
        "version": 3
      },
      "pygments_lexer": "ipython3",
      "nbconvert_exporter": "python",
      "file_extension": ".py"
    },
    "kaggle": {
      "accelerator": "tpu1vmV38",
      "dataSources": [],
      "dockerImageVersionId": 30675,
      "isInternetEnabled": true,
      "language": "python",
      "sourceType": "notebook",
      "isGpuEnabled": false
    },
    "colab": {
      "provenance": []
    },
    "accelerator": "TPU"
  },
  "nbformat_minor": 0,
  "nbformat": 4,
  "cells": [
    {
      "cell_type": "code",
      "source": [
        "tpu = tf.distribute.cluster_resolver.TPUClusterResolver()\n",
        "tf.config.experimental_connect_to_cluster(tpu)\n",
        "tf.tpu.experimental.initialize_tpu_system(tpu)\n",
        "print(f'Running on TPU {tpu.master()}')\n",
        "# Running on TPU grpc://10.0.0.2:8470"
      ],
      "metadata": {
        "_uuid": "8f2839f25d086af736a60e9eeb907d3b93b6e0e5",
        "_cell_guid": "b1076dfc-b9ad-4769-8c92-a6c4dae69d19",
        "execution": {
          "iopub.status.busy": "2024-03-27T09:28:05.273361Z",
          "iopub.execute_input": "2024-03-27T09:28:05.273999Z",
          "iopub.status.idle": "2024-03-27T09:28:14.668318Z",
          "shell.execute_reply.started": "2024-03-27T09:28:05.273962Z",
          "shell.execute_reply": "2024-03-27T09:28:14.667437Z"
        },
        "trusted": true,
        "id": "n70FGeiHKp2T",
        "outputId": "c61f9825-e153-45e6-b8d8-732fb52f32d1"
      },
      "execution_count": null,
      "outputs": [
        {
          "name": "stdout",
          "text": "INFO:tensorflow:Deallocate tpu buffers before initializing tpu system.\nINFO:tensorflow:Initializing the TPU system: local\n",
          "output_type": "stream"
        },
        {
          "name": "stderr",
          "text": "2024-03-27 09:28:08.925285: E external/local_xla/xla/stream_executor/stream_executor_internal.h:177] SetPriority unimplemented for this stream.\n2024-03-27 09:28:08.925395: E external/local_xla/xla/stream_executor/stream_executor_internal.h:177] SetPriority unimplemented for this stream.\n2024-03-27 09:28:08.925501: E external/local_xla/xla/stream_executor/stream_executor_internal.h:177] SetPriority unimplemented for this stream.\n2024-03-27 09:28:08.925585: E external/local_xla/xla/stream_executor/stream_executor_internal.h:177] SetPriority unimplemented for this stream.\n2024-03-27 09:28:08.925660: E external/local_xla/xla/stream_executor/stream_executor_internal.h:177] SetPriority unimplemented for this stream.\n2024-03-27 09:28:08.925874: E external/local_xla/xla/stream_executor/stream_executor_internal.h:177] SetPriority unimplemented for this stream.\n2024-03-27 09:28:08.925964: E external/local_xla/xla/stream_executor/stream_executor_internal.h:177] SetPriority unimplemented for this stream.\n2024-03-27 09:28:08.926048: E external/local_xla/xla/stream_executor/stream_executor_internal.h:177] SetPriority unimplemented for this stream.\n2024-03-27 09:28:08.926146: E external/local_xla/xla/stream_executor/stream_executor_internal.h:177] SetPriority unimplemented for this stream.\n2024-03-27 09:28:08.926238: E external/local_xla/xla/stream_executor/stream_executor_internal.h:177] SetPriority unimplemented for this stream.\n2024-03-27 09:28:08.926455: E external/local_xla/xla/stream_executor/stream_executor_internal.h:177] SetPriority unimplemented for this stream.\n2024-03-27 09:28:08.926564: E external/local_xla/xla/stream_executor/stream_executor_internal.h:177] SetPriority unimplemented for this stream.\n2024-03-27 09:28:08.926661: E external/local_xla/xla/stream_executor/stream_executor_internal.h:177] SetPriority unimplemented for this stream.\n2024-03-27 09:28:08.926747: E external/local_xla/xla/stream_executor/stream_executor_internal.h:177] SetPriority unimplemented for this stream.\n2024-03-27 09:28:08.926858: E external/local_xla/xla/stream_executor/stream_executor_internal.h:177] SetPriority unimplemented for this stream.\n2024-03-27 09:28:08.927078: E external/local_xla/xla/stream_executor/stream_executor_internal.h:177] SetPriority unimplemented for this stream.\n2024-03-27 09:28:08.927181: E external/local_xla/xla/stream_executor/stream_executor_internal.h:177] SetPriority unimplemented for this stream.\n2024-03-27 09:28:08.927266: E external/local_xla/xla/stream_executor/stream_executor_internal.h:177] SetPriority unimplemented for this stream.\n2024-03-27 09:28:08.927351: E external/local_xla/xla/stream_executor/stream_executor_internal.h:177] SetPriority unimplemented for this stream.\n2024-03-27 09:28:08.927427: E external/local_xla/xla/stream_executor/stream_executor_internal.h:177] SetPriority unimplemented for this stream.\n2024-03-27 09:28:08.927636: E external/local_xla/xla/stream_executor/stream_executor_internal.h:177] SetPriority unimplemented for this stream.\n2024-03-27 09:28:08.927733: E external/local_xla/xla/stream_executor/stream_executor_internal.h:177] SetPriority unimplemented for this stream.\n2024-03-27 09:28:08.927839: E external/local_xla/xla/stream_executor/stream_executor_internal.h:177] SetPriority unimplemented for this stream.\n2024-03-27 09:28:08.927977: E external/local_xla/xla/stream_executor/stream_executor_internal.h:177] SetPriority unimplemented for this stream.\n2024-03-27 09:28:08.928074: E external/local_xla/xla/stream_executor/stream_executor_internal.h:177] SetPriority unimplemented for this stream.\n2024-03-27 09:28:08.928334: E external/local_xla/xla/stream_executor/stream_executor_internal.h:177] SetPriority unimplemented for this stream.\n2024-03-27 09:28:08.928443: E external/local_xla/xla/stream_executor/stream_executor_internal.h:177] SetPriority unimplemented for this stream.\n2024-03-27 09:28:08.928525: E external/local_xla/xla/stream_executor/stream_executor_internal.h:177] SetPriority unimplemented for this stream.\n2024-03-27 09:28:08.928636: E external/local_xla/xla/stream_executor/stream_executor_internal.h:177] SetPriority unimplemented for this stream.\n2024-03-27 09:28:08.928734: E external/local_xla/xla/stream_executor/stream_executor_internal.h:177] SetPriority unimplemented for this stream.\n2024-03-27 09:28:08.929037: E external/local_xla/xla/stream_executor/stream_executor_internal.h:177] SetPriority unimplemented for this stream.\n2024-03-27 09:28:08.929124: E external/local_xla/xla/stream_executor/stream_executor_internal.h:177] SetPriority unimplemented for this stream.\n2024-03-27 09:28:08.929225: E external/local_xla/xla/stream_executor/stream_executor_internal.h:177] SetPriority unimplemented for this stream.\n2024-03-27 09:28:08.929327: E external/local_xla/xla/stream_executor/stream_executor_internal.h:177] SetPriority unimplemented for this stream.\n2024-03-27 09:28:08.929420: E external/local_xla/xla/stream_executor/stream_executor_internal.h:177] SetPriority unimplemented for this stream.\n2024-03-27 09:28:08.929668: E external/local_xla/xla/stream_executor/stream_executor_internal.h:177] SetPriority unimplemented for this stream.\n2024-03-27 09:28:08.929787: E external/local_xla/xla/stream_executor/stream_executor_internal.h:177] SetPriority unimplemented for this stream.\n2024-03-27 09:28:08.929888: E external/local_xla/xla/stream_executor/stream_executor_internal.h:177] SetPriority unimplemented for this stream.\n2024-03-27 09:28:08.929972: E external/local_xla/xla/stream_executor/stream_executor_internal.h:177] SetPriority unimplemented for this stream.\n2024-03-27 09:28:08.930063: E external/local_xla/xla/stream_executor/stream_executor_internal.h:177] SetPriority unimplemented for this stream.\n",
          "output_type": "stream"
        },
        {
          "name": "stdout",
          "text": "INFO:tensorflow:Finished initializing TPU system.\nRunning on TPU \n",
          "output_type": "stream"
        }
      ]
    },
    {
      "cell_type": "code",
      "source": [
        "import tensorflow as tf\n",
        "from kaggle_datasets import KaggleDatasets\n",
        "from tensorflow.keras import layers, applications, optimizers, losses"
      ],
      "metadata": {
        "execution": {
          "iopub.status.busy": "2024-03-27T09:56:16.795985Z",
          "iopub.execute_input": "2024-03-27T09:56:16.796757Z",
          "iopub.status.idle": "2024-03-27T09:56:16.800367Z",
          "shell.execute_reply.started": "2024-03-27T09:56:16.796722Z",
          "shell.execute_reply": "2024-03-27T09:56:16.799620Z"
        },
        "trusted": true,
        "id": "n2D5OcYTKp2V"
      },
      "execution_count": null,
      "outputs": []
    },
    {
      "cell_type": "code",
      "source": [
        "GCS_PATH = KaggleDatasets().get_gcs_path('tpu-getting-started') + '/tfrecords-jpeg-512x512'\n",
        "print(GCS_PATH)"
      ],
      "metadata": {
        "execution": {
          "iopub.status.busy": "2024-03-27T09:28:43.099043Z",
          "iopub.execute_input": "2024-03-27T09:28:43.099405Z",
          "iopub.status.idle": "2024-03-27T09:28:43.104022Z",
          "shell.execute_reply.started": "2024-03-27T09:28:43.099374Z",
          "shell.execute_reply": "2024-03-27T09:28:43.103269Z"
        },
        "trusted": true,
        "id": "ApGCLZUkKp2V",
        "outputId": "2aa0ac13-2c91-456f-dc41-bdeb667bf75c"
      },
      "execution_count": null,
      "outputs": [
        {
          "name": "stdout",
          "text": "/kaggle/input/tpu-getting-started/tfrecords-jpeg-512x512\n",
          "output_type": "stream"
        },
        {
          "name": "stderr",
          "text": "get_gcs_path is not required on TPU VMs which can directly use Kaggle datasets, using path: /kaggle/input/tpu-getting-started\n",
          "output_type": "stream"
        }
      ]
    },
    {
      "cell_type": "code",
      "source": [
        "filenames = tf.io.gfile.glob(GCS_PATH + \"/train/*.tfrec\")"
      ],
      "metadata": {
        "execution": {
          "iopub.status.busy": "2024-03-27T09:28:47.190302Z",
          "iopub.execute_input": "2024-03-27T09:28:47.190627Z",
          "iopub.status.idle": "2024-03-27T09:28:47.194595Z",
          "shell.execute_reply.started": "2024-03-27T09:28:47.190599Z",
          "shell.execute_reply": "2024-03-27T09:28:47.193813Z"
        },
        "trusted": true,
        "id": "zmXsSHh-Kp2W"
      },
      "execution_count": null,
      "outputs": []
    },
    {
      "cell_type": "code",
      "source": [
        "dataset = tf.data.TFRecordDataset(filenames)"
      ],
      "metadata": {
        "execution": {
          "iopub.status.busy": "2024-03-27T09:28:50.331371Z",
          "iopub.execute_input": "2024-03-27T09:28:50.331966Z",
          "iopub.status.idle": "2024-03-27T09:28:50.352869Z",
          "shell.execute_reply.started": "2024-03-27T09:28:50.331934Z",
          "shell.execute_reply": "2024-03-27T09:28:50.352064Z"
        },
        "trusted": true,
        "id": "1PyUo1ZbKp2W"
      },
      "execution_count": null,
      "outputs": []
    },
    {
      "cell_type": "code",
      "source": [
        "def decode_image(image_data):\n",
        "    image = tf.image.decode_jpeg(image_data, channels = 3)\n",
        "    image = tf.cast(image, tf.float32) / 255.0\n",
        "    image = tf.reshape(image, [512, 512, 3])\n",
        "    return image\n",
        "\n",
        "def read_labeled_tfrecord(example):\n",
        "    LABELED_TRFEC = {\n",
        "        \"image\": tf.io.FixedLenFeature([], tf.string),\n",
        "        \"class\": tf.io.FixedLenFeature([], tf.int64),\n",
        "    }\n",
        "    example = tf.io.parse_single_example(example, LABELED_TRFEC)\n",
        "    image = decode_image(example['image'])\n",
        "    label = tf.cast(example[\"class\"], tf.int32)\n",
        "    return image, label\n",
        "\n",
        "dataset = dataset.map(read_labeled_tfrecord)"
      ],
      "metadata": {
        "execution": {
          "iopub.status.busy": "2024-03-27T09:34:53.470455Z",
          "iopub.execute_input": "2024-03-27T09:34:53.470863Z",
          "iopub.status.idle": "2024-03-27T09:34:53.573292Z",
          "shell.execute_reply.started": "2024-03-27T09:34:53.470811Z",
          "shell.execute_reply": "2024-03-27T09:34:53.572281Z"
        },
        "trusted": true,
        "id": "XqYvy216Kp2W"
      },
      "execution_count": null,
      "outputs": []
    },
    {
      "cell_type": "code",
      "source": [
        "def data_augment(image, label):\n",
        "    image = tf.image.random_flip_left_right(image)\n",
        "    image = tf.image.random_flip_up_down(image)\n",
        "    image = tf.image.rot90(image , k = 1)\n",
        "    image = tf.image.random_brightness(image, max_delta=.2)\n",
        "    return image, label\n",
        "\n",
        "dataset = dataset.map(data_augment)"
      ],
      "metadata": {
        "execution": {
          "iopub.status.busy": "2024-03-27T09:44:43.476112Z",
          "iopub.execute_input": "2024-03-27T09:44:43.476574Z",
          "iopub.status.idle": "2024-03-27T09:44:43.619950Z",
          "shell.execute_reply.started": "2024-03-27T09:44:43.476537Z",
          "shell.execute_reply": "2024-03-27T09:44:43.619063Z"
        },
        "trusted": true,
        "id": "anvteSC6Kp2W"
      },
      "execution_count": null,
      "outputs": []
    },
    {
      "cell_type": "code",
      "source": [
        "dataset = dataset.repeat()\n",
        "dataset = dataset.shuffle(2048)\n",
        "dataset = dataset.batch(128)\n",
        "dataset = dataset.cache()\n",
        "dataset = dataset.prefetch(128*3)"
      ],
      "metadata": {
        "execution": {
          "iopub.status.busy": "2024-03-27T09:47:30.184668Z",
          "iopub.execute_input": "2024-03-27T09:47:30.185101Z",
          "iopub.status.idle": "2024-03-27T09:47:30.202433Z",
          "shell.execute_reply.started": "2024-03-27T09:47:30.185068Z",
          "shell.execute_reply": "2024-03-27T09:47:30.201556Z"
        },
        "trusted": true,
        "id": "HJiLNlcSKp2W"
      },
      "execution_count": null,
      "outputs": []
    },
    {
      "cell_type": "code",
      "source": [
        "def create_model():\n",
        "    base_model = applications.EfficientNetB6(weights=\"imagenet\",\n",
        "                                             include_top=False,\n",
        "                                             input_shape=(512, 512, 3))\n",
        "\n",
        "    model = tf.keras.Sequential([\n",
        "        base_model,\n",
        "        layers.GlobalAveragePooling2D(),\n",
        "        layers.Dense(104, activation=\"softmax\")\n",
        "    ])\n",
        "\n",
        "    return model\n",
        "\n",
        "# Define the distribution strategy\n",
        "strategy = tf.distribute.experimental.TPUStrategy(tpu)\n",
        "\n",
        "with strategy.scope():\n",
        "    # Create the model within the scope of the strategy\n",
        "    model = create_model()\n",
        "\n",
        "    # Compile the model within the same strategy scope\n",
        "    model.compile(optimizer=optimizers.Adam(),\n",
        "                  loss=\"sparse_categorical_crossentropy\")\n",
        "\n",
        "# Now, train the model with the same distribution strategy\n",
        "model.fit(dataset,\n",
        "          steps_per_epoch=100,\n",
        "          epochs=20)"
      ],
      "metadata": {
        "execution": {
          "iopub.status.busy": "2024-03-27T09:58:30.866543Z",
          "iopub.execute_input": "2024-03-27T09:58:30.867156Z",
          "iopub.status.idle": "2024-03-27T10:02:42.287912Z",
          "shell.execute_reply.started": "2024-03-27T09:58:30.867121Z",
          "shell.execute_reply": "2024-03-27T10:02:42.286572Z"
        },
        "trusted": true,
        "id": "ROBevWfHKp2X",
        "outputId": "c929a99a-6250-4d20-81c4-da6cc5ab25e4"
      },
      "execution_count": null,
      "outputs": [
        {
          "name": "stderr",
          "text": "WARNING:absl:`tf.distribute.experimental.TPUStrategy` is deprecated, please use the non-experimental symbol `tf.distribute.TPUStrategy` instead.\n",
          "output_type": "stream"
        },
        {
          "name": "stdout",
          "text": "INFO:tensorflow:Found TPU system:\n",
          "output_type": "stream"
        },
        {
          "name": "stderr",
          "text": "INFO:tensorflow:Found TPU system:\n",
          "output_type": "stream"
        },
        {
          "name": "stdout",
          "text": "INFO:tensorflow:*** Num TPU Cores: 8\n",
          "output_type": "stream"
        },
        {
          "name": "stderr",
          "text": "INFO:tensorflow:*** Num TPU Cores: 8\n",
          "output_type": "stream"
        },
        {
          "name": "stdout",
          "text": "INFO:tensorflow:*** Num TPU Workers: 1\n",
          "output_type": "stream"
        },
        {
          "name": "stderr",
          "text": "INFO:tensorflow:*** Num TPU Workers: 1\n",
          "output_type": "stream"
        },
        {
          "name": "stdout",
          "text": "INFO:tensorflow:*** Num TPU Cores Per Worker: 8\n",
          "output_type": "stream"
        },
        {
          "name": "stderr",
          "text": "INFO:tensorflow:*** Num TPU Cores Per Worker: 8\n",
          "output_type": "stream"
        },
        {
          "name": "stdout",
          "text": "INFO:tensorflow:*** Available Device: _DeviceAttributes(/job:localhost/replica:0/task:0/device:CPU:0, CPU, 0, 0)\n",
          "output_type": "stream"
        },
        {
          "name": "stderr",
          "text": "INFO:tensorflow:*** Available Device: _DeviceAttributes(/job:localhost/replica:0/task:0/device:CPU:0, CPU, 0, 0)\n",
          "output_type": "stream"
        },
        {
          "name": "stdout",
          "text": "INFO:tensorflow:*** Available Device: _DeviceAttributes(/job:localhost/replica:0/task:0/device:TPU:0, TPU, 0, 0)\n",
          "output_type": "stream"
        },
        {
          "name": "stderr",
          "text": "INFO:tensorflow:*** Available Device: _DeviceAttributes(/job:localhost/replica:0/task:0/device:TPU:0, TPU, 0, 0)\n",
          "output_type": "stream"
        },
        {
          "name": "stdout",
          "text": "INFO:tensorflow:*** Available Device: _DeviceAttributes(/job:localhost/replica:0/task:0/device:TPU:1, TPU, 0, 0)\n",
          "output_type": "stream"
        },
        {
          "name": "stderr",
          "text": "INFO:tensorflow:*** Available Device: _DeviceAttributes(/job:localhost/replica:0/task:0/device:TPU:1, TPU, 0, 0)\n",
          "output_type": "stream"
        },
        {
          "name": "stdout",
          "text": "INFO:tensorflow:*** Available Device: _DeviceAttributes(/job:localhost/replica:0/task:0/device:TPU:2, TPU, 0, 0)\n",
          "output_type": "stream"
        },
        {
          "name": "stderr",
          "text": "INFO:tensorflow:*** Available Device: _DeviceAttributes(/job:localhost/replica:0/task:0/device:TPU:2, TPU, 0, 0)\n",
          "output_type": "stream"
        },
        {
          "name": "stdout",
          "text": "INFO:tensorflow:*** Available Device: _DeviceAttributes(/job:localhost/replica:0/task:0/device:TPU:3, TPU, 0, 0)\n",
          "output_type": "stream"
        },
        {
          "name": "stderr",
          "text": "INFO:tensorflow:*** Available Device: _DeviceAttributes(/job:localhost/replica:0/task:0/device:TPU:3, TPU, 0, 0)\n",
          "output_type": "stream"
        },
        {
          "name": "stdout",
          "text": "INFO:tensorflow:*** Available Device: _DeviceAttributes(/job:localhost/replica:0/task:0/device:TPU:4, TPU, 0, 0)\n",
          "output_type": "stream"
        },
        {
          "name": "stderr",
          "text": "INFO:tensorflow:*** Available Device: _DeviceAttributes(/job:localhost/replica:0/task:0/device:TPU:4, TPU, 0, 0)\n",
          "output_type": "stream"
        },
        {
          "name": "stdout",
          "text": "INFO:tensorflow:*** Available Device: _DeviceAttributes(/job:localhost/replica:0/task:0/device:TPU:5, TPU, 0, 0)\n",
          "output_type": "stream"
        },
        {
          "name": "stderr",
          "text": "INFO:tensorflow:*** Available Device: _DeviceAttributes(/job:localhost/replica:0/task:0/device:TPU:5, TPU, 0, 0)\n",
          "output_type": "stream"
        },
        {
          "name": "stdout",
          "text": "INFO:tensorflow:*** Available Device: _DeviceAttributes(/job:localhost/replica:0/task:0/device:TPU:6, TPU, 0, 0)\n",
          "output_type": "stream"
        },
        {
          "name": "stderr",
          "text": "INFO:tensorflow:*** Available Device: _DeviceAttributes(/job:localhost/replica:0/task:0/device:TPU:6, TPU, 0, 0)\n",
          "output_type": "stream"
        },
        {
          "name": "stdout",
          "text": "INFO:tensorflow:*** Available Device: _DeviceAttributes(/job:localhost/replica:0/task:0/device:TPU:7, TPU, 0, 0)\n",
          "output_type": "stream"
        },
        {
          "name": "stderr",
          "text": "INFO:tensorflow:*** Available Device: _DeviceAttributes(/job:localhost/replica:0/task:0/device:TPU:7, TPU, 0, 0)\n",
          "output_type": "stream"
        },
        {
          "name": "stdout",
          "text": "INFO:tensorflow:*** Available Device: _DeviceAttributes(/job:localhost/replica:0/task:0/device:TPU_SYSTEM:0, TPU_SYSTEM, 0, 0)\n",
          "output_type": "stream"
        },
        {
          "name": "stderr",
          "text": "INFO:tensorflow:*** Available Device: _DeviceAttributes(/job:localhost/replica:0/task:0/device:TPU_SYSTEM:0, TPU_SYSTEM, 0, 0)\n",
          "output_type": "stream"
        },
        {
          "name": "stdout",
          "text": "Epoch 1/20\n",
          "output_type": "stream"
        },
        {
          "name": "stderr",
          "text": "2024-03-27 10:02:20.594672: E tensorflow/core/grappler/optimizers/meta_optimizer.cc:961] model_pruner failed: INVALID_ARGUMENT: Graph does not contain terminal node StatefulPartitionedCall.\n",
          "output_type": "stream"
        },
        {
          "name": "stdout",
          "text": "\u001b[1m100/100\u001b[0m \u001b[32m━━━━━━━━━━━━━━━━━━━━\u001b[0m\u001b[37m\u001b[0m \u001b[1m226s\u001b[0m 2s/step - loss: 0.0000e+00\nEpoch 2/20\n",
          "output_type": "stream"
        },
        {
          "name": "stderr",
          "text": "/usr/local/lib/python3.10/contextlib.py:153: UserWarning: Your input ran out of data; interrupting training. Make sure that your dataset or generator can generate at least `steps_per_epoch * epochs` batches. You may need to use the `.repeat()` function when building your dataset.\n  self.gen.throw(typ, value, traceback)\n",
          "output_type": "stream"
        },
        {
          "name": "stdout",
          "text": "\u001b[1m100/100\u001b[0m \u001b[32m━━━━━━━━━━━━━━━━━━━━\u001b[0m\u001b[37m\u001b[0m \u001b[1m1s\u001b[0m 6ms/step - loss: 0.0000e+00\nEpoch 3/20\n\u001b[1m100/100\u001b[0m \u001b[32m━━━━━━━━━━━━━━━━━━━━\u001b[0m\u001b[37m\u001b[0m \u001b[1m1s\u001b[0m 6ms/step - loss: 0.0000e+00\nEpoch 4/20\n\u001b[1m100/100\u001b[0m \u001b[32m━━━━━━━━━━━━━━━━━━━━\u001b[0m\u001b[37m\u001b[0m \u001b[1m1s\u001b[0m 6ms/step - loss: 0.0000e+00\nEpoch 5/20\n\u001b[1m100/100\u001b[0m \u001b[32m━━━━━━━━━━━━━━━━━━━━\u001b[0m\u001b[37m\u001b[0m \u001b[1m1s\u001b[0m 5ms/step - loss: 0.0000e+00\nEpoch 6/20\n\u001b[1m100/100\u001b[0m \u001b[32m━━━━━━━━━━━━━━━━━━━━\u001b[0m\u001b[37m\u001b[0m \u001b[1m1s\u001b[0m 5ms/step - loss: 0.0000e+00\nEpoch 7/20\n\u001b[1m100/100\u001b[0m \u001b[32m━━━━━━━━━━━━━━━━━━━━\u001b[0m\u001b[37m\u001b[0m \u001b[1m1s\u001b[0m 5ms/step - loss: 0.0000e+00\nEpoch 8/20\n\u001b[1m100/100\u001b[0m \u001b[32m━━━━━━━━━━━━━━━━━━━━\u001b[0m\u001b[37m\u001b[0m \u001b[1m1s\u001b[0m 5ms/step - loss: 0.0000e+00\nEpoch 9/20\n\u001b[1m100/100\u001b[0m \u001b[32m━━━━━━━━━━━━━━━━━━━━\u001b[0m\u001b[37m\u001b[0m \u001b[1m1s\u001b[0m 5ms/step - loss: 0.0000e+00\nEpoch 10/20\n\u001b[1m100/100\u001b[0m \u001b[32m━━━━━━━━━━━━━━━━━━━━\u001b[0m\u001b[37m\u001b[0m \u001b[1m1s\u001b[0m 6ms/step - loss: 0.0000e+00\nEpoch 11/20\n\u001b[1m100/100\u001b[0m \u001b[32m━━━━━━━━━━━━━━━━━━━━\u001b[0m\u001b[37m\u001b[0m \u001b[1m1s\u001b[0m 5ms/step - loss: 0.0000e+00\nEpoch 12/20\n\u001b[1m100/100\u001b[0m \u001b[32m━━━━━━━━━━━━━━━━━━━━\u001b[0m\u001b[37m\u001b[0m \u001b[1m1s\u001b[0m 5ms/step - loss: 0.0000e+00\nEpoch 13/20\n\u001b[1m100/100\u001b[0m \u001b[32m━━━━━━━━━━━━━━━━━━━━\u001b[0m\u001b[37m\u001b[0m \u001b[1m1s\u001b[0m 5ms/step - loss: 0.0000e+00\nEpoch 14/20\n\u001b[1m100/100\u001b[0m \u001b[32m━━━━━━━━━━━━━━━━━━━━\u001b[0m\u001b[37m\u001b[0m \u001b[1m1s\u001b[0m 6ms/step - loss: 0.0000e+00\nEpoch 15/20\n\u001b[1m100/100\u001b[0m \u001b[32m━━━━━━━━━━━━━━━━━━━━\u001b[0m\u001b[37m\u001b[0m \u001b[1m1s\u001b[0m 6ms/step - loss: 0.0000e+00\nEpoch 16/20\n\u001b[1m100/100\u001b[0m \u001b[32m━━━━━━━━━━━━━━━━━━━━\u001b[0m\u001b[37m\u001b[0m \u001b[1m1s\u001b[0m 5ms/step - loss: 0.0000e+00\nEpoch 17/20\n\u001b[1m100/100\u001b[0m \u001b[32m━━━━━━━━━━━━━━━━━━━━\u001b[0m\u001b[37m\u001b[0m \u001b[1m1s\u001b[0m 5ms/step - loss: 0.0000e+00\nEpoch 18/20\n\u001b[1m100/100\u001b[0m \u001b[32m━━━━━━━━━━━━━━━━━━━━\u001b[0m\u001b[37m\u001b[0m \u001b[1m1s\u001b[0m 5ms/step - loss: 0.0000e+00\nEpoch 19/20\n\u001b[1m100/100\u001b[0m \u001b[32m━━━━━━━━━━━━━━━━━━━━\u001b[0m\u001b[37m\u001b[0m \u001b[1m4s\u001b[0m 42ms/step - loss: 0.0000e+00\nEpoch 20/20\n\u001b[1m100/100\u001b[0m \u001b[32m━━━━━━━━━━━━━━━━━━━━\u001b[0m\u001b[37m\u001b[0m \u001b[1m1s\u001b[0m 6ms/step - loss: 0.0000e+00\n",
          "output_type": "stream"
        },
        {
          "execution_count": 21,
          "output_type": "execute_result",
          "data": {
            "text/plain": "<keras.src.callbacks.history.History at 0x7c455c5941f0>"
          },
          "metadata": {}
        }
      ]
    },
    {
      "cell_type": "code",
      "source": [
        "import numpy as np\n",
        "import matplotlib.pyplot as plt\n",
        "\n",
        "def predict_flower_category(image_path, model):\n",
        "    # Load and preprocess the image\n",
        "    image = tf.io.read_file(image_path)\n",
        "    image = decode_image(image)\n",
        "    image = tf.expand_dims(image, axis=0)  # Add batch dimension\n",
        "\n",
        "    # Predict the category\n",
        "    predicted_logits = model.predict(image)\n",
        "    predicted_class = np.argmax(predicted_logits)\n",
        "\n",
        "    return predicted_class\n",
        "\n",
        "def show_similar_flowers(image_path, model, dataset, num_images=5):\n",
        "    # Predict the category of the input image\n",
        "    predicted_class = predict_flower_category(image_path, model)\n",
        "\n",
        "    # Filter the dataset to get images of the predicted category\n",
        "    images_of_predicted_class = []\n",
        "    for image, label in dataset:\n",
        "        if label == predicted_class:\n",
        "            images_of_predicted_class.append(image)\n",
        "        if len(images_of_predicted_class) == num_images:\n",
        "            break\n",
        "\n",
        "    # Show the images\n",
        "    plt.figure(figsize=(15, 6))\n",
        "    for i, image in enumerate(images_of_predicted_class):\n",
        "        plt.subplot(1, num_images, i+1)\n",
        "        plt.imshow(image.numpy())\n",
        "        plt.axis('off')\n",
        "        plt.title(f'Flower {i+1}')\n",
        "    plt.show()\n",
        "\n",
        "# Example usage\n",
        "# image_path = 'path/to/your/image.jpg'  # Replace with the path to your image\n",
        "# show_similar_flowers(image_path, model, dataset)\n"
      ],
      "metadata": {
        "id": "c1A_aA7FKp2X"
      },
      "execution_count": null,
      "outputs": []
    }
  ]
}